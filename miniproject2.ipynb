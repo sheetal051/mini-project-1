{
  "cells": [
    {
      "cell_type": "markdown",
      "metadata": {
        "id": "view-in-github",
        "colab_type": "text"
      },
      "source": [
        "<a href=\"https://colab.research.google.com/github/sheetal051/mini-project-1/blob/main/miniproject2.ipynb\" target=\"_parent\"><img src=\"https://colab.research.google.com/assets/colab-badge.svg\" alt=\"Open In Colab\"/></a>"
      ]
    },
    {
      "cell_type": "markdown",
      "metadata": {
        "id": "T0oeUZPendH4"
      },
      "source": [
        "---\n",
        "###**Part I: Process Automation**\n",
        "---"
      ]
    },
    {
      "cell_type": "markdown",
      "metadata": {
        "id": "kNNd_r1nn0uN"
      },
      "source": [
        "---\n",
        "###**Q1. Create a file that contains 1000 lines of random strings.**\n",
        "---\n"
      ]
    },
    {
      "cell_type": "code",
      "execution_count": null,
      "metadata": {
        "id": "lmbeC_5-nbpq"
      },
      "outputs": [],
      "source": [
        "import random\n",
        "import string\n",
        "\n",
        "with open(\"random_1000.txt\", \"w\") as f:\n",
        "    for _ in range(1000):\n",
        "        f.write(''.join(random.choices(string.ascii_letters + string.digits, k=50)) + '\\n')"
      ]
    },
    {
      "cell_type": "markdown",
      "metadata": {
        "id": "LkhunaYYokt6"
      },
      "source": [
        "---\n",
        "###**Q2. Create a file that contains multiple lines of random strings and file size must be 5 MB.**\n",
        "---\n"
      ]
    },
    {
      "cell_type": "code",
      "execution_count": null,
      "metadata": {
        "id": "TvxAeuy9ovRJ"
      },
      "outputs": [],
      "source": [
        "def write_random_file(filename, size_mb):\n",
        "    with open(filename, 'w') as f:\n",
        "        while f.tell() < size_mb * 1024 * 1024:\n",
        "            f.write(''.join(random.choices(string.ascii_letters + string.digits, k=80)) + '\\n')\n",
        "\n",
        "write_random_file(\"random_5mb.txt\", 5)"
      ]
    },
    {
      "cell_type": "markdown",
      "metadata": {
        "id": "LS64Euceo6w3"
      },
      "source": [
        "---\n",
        "###**Q3. Create 10 files that contains multiple lines of random strings and file size of each file must be 5 MB.**\n",
        "---"
      ]
    },
    {
      "cell_type": "code",
      "execution_count": null,
      "metadata": {
        "id": "PHfqAQ8FpGsp"
      },
      "outputs": [],
      "source": [
        "for i in range(10):\n",
        "    write_random_file(f\"random_5mb_{i}.txt\", 5)"
      ]
    },
    {
      "cell_type": "markdown",
      "metadata": {
        "id": "po3TkmKZpWMn"
      },
      "source": [
        "---\n",
        "###**Q4. Create 5 files of size 1GB, 2GB, 3GB, 4GB and 5GB; file contains multiple lines of random strings.**\n",
        "---"
      ]
    },
    {
      "cell_type": "code",
      "execution_count": null,
      "metadata": {
        "colab": {
          "base_uri": "https://localhost:8080/",
          "height": 280
        },
        "id": "_9YU0iUWqMSa",
        "outputId": "f9371ea0-d526-467a-b164-e0cce21efeda"
      },
      "outputs": [
        {
          "ename": "KeyboardInterrupt",
          "evalue": "",
          "output_type": "error",
          "traceback": [
            "\u001b[0;31m---------------------------------------------------------------------------\u001b[0m",
            "\u001b[0;31mKeyboardInterrupt\u001b[0m                         Traceback (most recent call last)",
            "\u001b[0;32m/tmp/ipython-input-5-3829560668.py\u001b[0m in \u001b[0;36m<cell line: 0>\u001b[0;34m()\u001b[0m\n\u001b[1;32m      1\u001b[0m \u001b[0;32mfor\u001b[0m \u001b[0mi\u001b[0m \u001b[0;32min\u001b[0m \u001b[0mrange\u001b[0m\u001b[0;34m(\u001b[0m\u001b[0;36m1\u001b[0m\u001b[0;34m,\u001b[0m \u001b[0;36m6\u001b[0m\u001b[0;34m)\u001b[0m\u001b[0;34m:\u001b[0m\u001b[0;34m\u001b[0m\u001b[0;34m\u001b[0m\u001b[0m\n\u001b[0;32m----> 2\u001b[0;31m     \u001b[0mwrite_random_file\u001b[0m\u001b[0;34m(\u001b[0m\u001b[0;34mf\"random_{i}GB.txt\"\u001b[0m\u001b[0;34m,\u001b[0m \u001b[0mi\u001b[0m \u001b[0;34m*\u001b[0m \u001b[0;36m1024\u001b[0m\u001b[0;34m)\u001b[0m\u001b[0;34m\u001b[0m\u001b[0;34m\u001b[0m\u001b[0m\n\u001b[0m",
            "\u001b[0;32m/tmp/ipython-input-3-726195423.py\u001b[0m in \u001b[0;36mwrite_random_file\u001b[0;34m(filename, size_mb)\u001b[0m\n\u001b[1;32m      2\u001b[0m     \u001b[0;32mwith\u001b[0m \u001b[0mopen\u001b[0m\u001b[0;34m(\u001b[0m\u001b[0mfilename\u001b[0m\u001b[0;34m,\u001b[0m \u001b[0;34m'w'\u001b[0m\u001b[0;34m)\u001b[0m \u001b[0;32mas\u001b[0m \u001b[0mf\u001b[0m\u001b[0;34m:\u001b[0m\u001b[0;34m\u001b[0m\u001b[0;34m\u001b[0m\u001b[0m\n\u001b[1;32m      3\u001b[0m         \u001b[0;32mwhile\u001b[0m \u001b[0mf\u001b[0m\u001b[0;34m.\u001b[0m\u001b[0mtell\u001b[0m\u001b[0;34m(\u001b[0m\u001b[0;34m)\u001b[0m \u001b[0;34m<\u001b[0m \u001b[0msize_mb\u001b[0m \u001b[0;34m*\u001b[0m \u001b[0;36m1024\u001b[0m \u001b[0;34m*\u001b[0m \u001b[0;36m1024\u001b[0m\u001b[0;34m:\u001b[0m\u001b[0;34m\u001b[0m\u001b[0;34m\u001b[0m\u001b[0m\n\u001b[0;32m----> 4\u001b[0;31m             \u001b[0mf\u001b[0m\u001b[0;34m.\u001b[0m\u001b[0mwrite\u001b[0m\u001b[0;34m(\u001b[0m\u001b[0;34m''\u001b[0m\u001b[0;34m.\u001b[0m\u001b[0mjoin\u001b[0m\u001b[0;34m(\u001b[0m\u001b[0mrandom\u001b[0m\u001b[0;34m.\u001b[0m\u001b[0mchoices\u001b[0m\u001b[0;34m(\u001b[0m\u001b[0mstring\u001b[0m\u001b[0;34m.\u001b[0m\u001b[0mascii_letters\u001b[0m \u001b[0;34m+\u001b[0m \u001b[0mstring\u001b[0m\u001b[0;34m.\u001b[0m\u001b[0mdigits\u001b[0m\u001b[0;34m,\u001b[0m \u001b[0mk\u001b[0m\u001b[0;34m=\u001b[0m\u001b[0;36m80\u001b[0m\u001b[0;34m)\u001b[0m\u001b[0;34m)\u001b[0m \u001b[0;34m+\u001b[0m \u001b[0;34m'\\n'\u001b[0m\u001b[0;34m)\u001b[0m\u001b[0;34m\u001b[0m\u001b[0;34m\u001b[0m\u001b[0m\n\u001b[0m\u001b[1;32m      5\u001b[0m \u001b[0;34m\u001b[0m\u001b[0m\n\u001b[1;32m      6\u001b[0m \u001b[0mwrite_random_file\u001b[0m\u001b[0;34m(\u001b[0m\u001b[0;34m\"random_5mb.txt\"\u001b[0m\u001b[0;34m,\u001b[0m \u001b[0;36m5\u001b[0m\u001b[0;34m)\u001b[0m\u001b[0;34m\u001b[0m\u001b[0;34m\u001b[0m\u001b[0m\n",
            "\u001b[0;31mKeyboardInterrupt\u001b[0m: "
          ]
        }
      ],
      "source": [
        "for i in range(1, 6):\n",
        "    write_random_file(f\"random_{i}GB.txt\", i * 1024)"
      ]
    },
    {
      "cell_type": "markdown",
      "metadata": {
        "id": "ADTkZtIy0SgW"
      },
      "source": [
        "---\n",
        "###**Q5. Convert all the files of Q4 into upper case one by one.**\n",
        "---\n"
      ]
    },
    {
      "cell_type": "code",
      "execution_count": null,
      "metadata": {
        "id": "ypiLEdAE0eY2"
      },
      "outputs": [],
      "source": [
        "for i in range(1, 6):\n",
        "    filename = f\"random_{i}GB.txt\"\n",
        "    with open(filename, 'r') as infile, open(f\"upper_{i}GB.txt\", 'w') as outfile:\n",
        "        for line in infile:\n",
        "            outfile.write(line.upper())"
      ]
    },
    {
      "cell_type": "markdown",
      "metadata": {
        "id": "e45JBIz21OU1"
      },
      "source": [
        "---\n",
        "###**Q6. Convert all the files of Q4 into upper case parallel using multi-threading.**\n",
        "---"
      ]
    },
    {
      "cell_type": "code",
      "execution_count": null,
      "metadata": {
        "id": "taltVgMG1aC4"
      },
      "outputs": [],
      "source": [
        "import threading\n",
        "\n",
        "def convert_to_upper(filename):\n",
        "    with open(filename, 'r') as infile, open(f\"upper_{filename}\", 'w') as outfile:\n",
        "        for line in infile:\n",
        "            outfile.write(line.upper())\n",
        "\n",
        "threads = []\n",
        "for i in range(1, 6):\n",
        "    t = threading.Thread(target=convert_to_upper, args=(f\"random_{i}GB.txt\",))\n",
        "    threads.append(t)\n",
        "    t.start()\n",
        "\n",
        "for t in threads:\n",
        "    t.join()"
      ]
    },
    {
      "cell_type": "markdown",
      "metadata": {
        "id": "NP6RP4Ks2FVv"
      },
      "source": [
        "---\n",
        "###**Q7. WAP to automatically download 10 images of cat from “Google Images”. [Hint: Find the package from**\n",
        "###**pypi.org and use it]**\n",
        "\n",
        "---"
      ]
    },
    {
      "cell_type": "code",
      "execution_count": null,
      "metadata": {
        "colab": {
          "base_uri": "https://localhost:8080/"
        },
        "id": "-Mrr6qLh2zx5",
        "outputId": "b6f12f8f-b0a2-451f-f851-03d86bf08c16"
      },
      "outputs": [
        {
          "name": "stdout",
          "output_type": "stream",
          "text": [
            "Collecting icrawler\n",
            "  Downloading icrawler-0.6.10-py3-none-any.whl.metadata (6.2 kB)\n",
            "Requirement already satisfied: beautifulsoup4 in /usr/local/lib/python3.11/dist-packages (from icrawler) (4.13.4)\n",
            "Collecting bs4 (from icrawler)\n",
            "  Downloading bs4-0.0.2-py2.py3-none-any.whl.metadata (411 bytes)\n",
            "Requirement already satisfied: lxml in /usr/local/lib/python3.11/dist-packages (from icrawler) (5.4.0)\n",
            "Requirement already satisfied: pillow in /usr/local/lib/python3.11/dist-packages (from icrawler) (11.2.1)\n",
            "Requirement already satisfied: pyyaml in /usr/local/lib/python3.11/dist-packages (from icrawler) (6.0.2)\n",
            "Requirement already satisfied: requests in /usr/local/lib/python3.11/dist-packages (from icrawler) (2.32.3)\n",
            "Requirement already satisfied: six in /usr/local/lib/python3.11/dist-packages (from icrawler) (1.17.0)\n",
            "Requirement already satisfied: soupsieve>1.2 in /usr/local/lib/python3.11/dist-packages (from beautifulsoup4->icrawler) (2.7)\n",
            "Requirement already satisfied: typing-extensions>=4.0.0 in /usr/local/lib/python3.11/dist-packages (from beautifulsoup4->icrawler) (4.14.0)\n",
            "Requirement already satisfied: charset-normalizer<4,>=2 in /usr/local/lib/python3.11/dist-packages (from requests->icrawler) (3.4.2)\n",
            "Requirement already satisfied: idna<4,>=2.5 in /usr/local/lib/python3.11/dist-packages (from requests->icrawler) (3.10)\n",
            "Requirement already satisfied: urllib3<3,>=1.21.1 in /usr/local/lib/python3.11/dist-packages (from requests->icrawler) (1.26.20)\n",
            "Requirement already satisfied: certifi>=2017.4.17 in /usr/local/lib/python3.11/dist-packages (from requests->icrawler) (2025.6.15)\n",
            "Downloading icrawler-0.6.10-py3-none-any.whl (36 kB)\n",
            "Downloading bs4-0.0.2-py2.py3-none-any.whl (1.2 kB)\n",
            "Installing collected packages: bs4, icrawler\n",
            "Successfully installed bs4-0.0.2 icrawler-0.6.10\n"
          ]
        }
      ],
      "source": [
        "pip install icrawler\n"
      ]
    },
    {
      "cell_type": "code",
      "execution_count": null,
      "metadata": {
        "colab": {
          "base_uri": "https://localhost:8080/"
        },
        "id": "QVSSG5E39G2t",
        "outputId": "b7713cd8-dae0-4a4a-bdb2-c8edddcce504"
      },
      "outputs": [
        {
          "name": "stderr",
          "output_type": "stream",
          "text": [
            "ERROR:downloader:Response status code 401, file https://i.guim.co.uk/img/media/327aa3f0c3b8e40ab03b4ae80319064e401c6fbc/377_133_3542_2834/master/3542.jpg\n",
            "ERROR:downloader:Response status code 404, file https://upload.wikimedia.org/wikipedia/commons/thumb/1/15/Cat_August_2010-4.jpg\n",
            "ERROR:downloader:Response status code 404, file https://upload.wikimedia.org/wikipedia/commons/thumb/4/4d/Cat_November_2010-1a.jpg\n",
            "ERROR:downloader:Response status code 403, file http://www.alleycat.org/wp-content/uploads/2019/03/FELV-cat.jpg\n",
            "ERROR:downloader:Response status code 400, file https://media.istockphoto.com/id/1443562748/photo/cute-ginger-cat.jpg\n",
            "ERROR:downloader:Response status code 404, file https://upload.wikimedia.org/wikipedia/commons/thumb/3/3a/Cat03.jpg\n",
            "ERROR:downloader:Response status code 400, file https://icatcare.org/img/asset/aW1hZ2VzL2N1dG91dHMvYWRvYmVzdG9ja18zMTYzODM5NjkucG5n/adobestock_316383969.png\n"
          ]
        }
      ],
      "source": [
        "from icrawler.builtin import GoogleImageCrawler\n",
        "\n",
        "crawler = GoogleImageCrawler(storage={'root_dir': 'cat_images'})\n",
        "crawler.crawl(keyword='cat', max_num=10)\n"
      ]
    },
    {
      "cell_type": "markdown",
      "metadata": {
        "id": "mBFePKQr9U3u"
      },
      "source": [
        "---\n",
        "###**Q8. WAP to automatically download 10 videos of “Machine Learning” from “Youtube.com”. [Hint: Find the**\n",
        "###**package from pypi.org and use it]**\n",
        "---\n"
      ]
    },
    {
      "cell_type": "code",
      "source": [
        "pip install yt-dlp\n"
      ],
      "metadata": {
        "colab": {
          "base_uri": "https://localhost:8080/"
        },
        "id": "pagVaBK4MJiS",
        "outputId": "fd556414-28b9-4eb7-b252-2300406c411e"
      },
      "execution_count": 8,
      "outputs": [
        {
          "output_type": "stream",
          "name": "stdout",
          "text": [
            "Collecting yt-dlp\n",
            "  Downloading yt_dlp-2025.6.25-py3-none-any.whl.metadata (174 kB)\n",
            "\u001b[?25l     \u001b[90m━━━━━━━━━━━━━━━━━━━━━━━━━━━━━━━━━━━━━━━━\u001b[0m \u001b[32m0.0/174.3 kB\u001b[0m \u001b[31m?\u001b[0m eta \u001b[36m-:--:--\u001b[0m\r\u001b[2K     \u001b[90m━━━━━━━━━━━━━━━━━━━━━━━━━━━━━━━━━━━━━━━\u001b[0m \u001b[32m174.3/174.3 kB\u001b[0m \u001b[31m6.6 MB/s\u001b[0m eta \u001b[36m0:00:00\u001b[0m\n",
            "\u001b[?25hDownloading yt_dlp-2025.6.25-py3-none-any.whl (3.3 MB)\n",
            "\u001b[2K   \u001b[90m━━━━━━━━━━━━━━━━━━━━━━━━━━━━━━━━━━━━━━━━\u001b[0m \u001b[32m3.3/3.3 MB\u001b[0m \u001b[31m74.4 MB/s\u001b[0m eta \u001b[36m0:00:00\u001b[0m\n",
            "\u001b[?25hInstalling collected packages: yt-dlp\n",
            "Successfully installed yt-dlp-2025.6.25\n"
          ]
        }
      ]
    },
    {
      "cell_type": "code",
      "source": [
        "import os\n",
        "import subprocess\n",
        "\n",
        "os.makedirs(\"ml_videos\", exist_ok=True)\n",
        "\n",
        "# Search for machine learning videos on YouTube\n",
        "search_url = \"https://www.youtube.com/results?search_query=machine+learning\"\n",
        "\n",
        "# Download top 10 videos using yt-dlp\n",
        "# --download-archive prevents redownloading if run multiple times\n",
        "command = [\n",
        "    \"yt-dlp\",\n",
        "    \"--extractor-args\", \"youtube:player_client=web\",\n",
        "    \"--max-downloads\", \"10\",\n",
        "    \"--output\", \"ml_videos/video_%(title).70s.%(ext)s\",\n",
        "    \"ytsearch10:machine learning\"\n",
        "]\n",
        "\n",
        "subprocess.run(command)\n"
      ],
      "metadata": {
        "colab": {
          "base_uri": "https://localhost:8080/"
        },
        "id": "asq_CTdVMN_H",
        "outputId": "e9103ad5-7ff9-45d7-b108-60078b679768"
      },
      "execution_count": 9,
      "outputs": [
        {
          "output_type": "execute_result",
          "data": {
            "text/plain": [
              "CompletedProcess(args=['yt-dlp', '--extractor-args', 'youtube:player_client=web', '--max-downloads', '10', '--output', 'ml_videos/video_%(title).70s.%(ext)s', 'ytsearch10:machine learning'], returncode=1)"
            ]
          },
          "metadata": {},
          "execution_count": 9
        }
      ]
    },
    {
      "cell_type": "markdown",
      "source": [
        "---\n",
        "###**Q9. Convert all the videos of Q8 and convert it to audio. [Hint: Find the package from pypi.org and use it]**\n",
        "---\n"
      ],
      "metadata": {
        "id": "kN47xvkyMr06"
      }
    },
    {
      "cell_type": "code",
      "source": [
        "from moviepy.editor import VideoFileClip\n",
        "import os\n",
        "\n",
        "for filename in os.listdir(\"ml_videos\"):\n",
        "    if filename.endswith(\".mp4\"):\n",
        "        clip = VideoFileClip(f\"ml_videos/{filename}\")\n",
        "        clip.audio.write_audiofile(f\"ml_videos/{filename.replace('.mp4', '.mp3')}\")\n"
      ],
      "metadata": {
        "colab": {
          "base_uri": "https://localhost:8080/"
        },
        "id": "f9GBGdnHM2QN",
        "outputId": "602dfbf0-9257-4b5e-9e55-37e3ded3f7f9"
      },
      "execution_count": 10,
      "outputs": [
        {
          "output_type": "stream",
          "name": "stdout",
          "text": [
            "MoviePy - Writing audio in ml_videos/video_AI, Machine Learning, Deep Learning and Generative AI Explained.mp3\n"
          ]
        },
        {
          "output_type": "stream",
          "name": "stderr",
          "text": []
        },
        {
          "output_type": "stream",
          "name": "stdout",
          "text": [
            "MoviePy - Done.\n",
            "MoviePy - Writing audio in ml_videos/video_Stanford CS229 I Machine Learning I Building Large Language Models (LL.mp3\n"
          ]
        },
        {
          "output_type": "stream",
          "name": "stderr",
          "text": [
            "                                                                         "
          ]
        },
        {
          "output_type": "stream",
          "name": "stdout",
          "text": [
            "MoviePy - Done.\n"
          ]
        },
        {
          "output_type": "stream",
          "name": "stderr",
          "text": [
            "\r"
          ]
        }
      ]
    },
    {
      "cell_type": "markdown",
      "source": [
        "---\n",
        "###**Q10. Create an automated pipeline using multi-threading for:**\n",
        "###**“Automatic Download of 100 Videos from YouTube” → “Convert it to Audio”.**\n",
        "---"
      ],
      "metadata": {
        "id": "Ar8FUYGYNskd"
      }
    },
    {
      "cell_type": "code",
      "source": [
        "from concurrent.futures import ThreadPoolExecutor\n",
        "\n",
        "def download_and_convert(video):\n",
        "    filename = video.title + \".mp4\"\n",
        "    video.streams.get_audio_only().download(output_path=\"yt_pipeline\", filename=filename)\n",
        "    clip = VideoFileClip(f\"yt_pipeline/{filename}\")\n",
        "    clip.audio.write_audiofile(f\"yt_pipeline/{filename.replace('.mp4', '.mp3')}\")\n",
        "\n",
        "search = Search(\"machine learning tutorials\")\n",
        "videos = search.results[:100]\n",
        "\n",
        "with ThreadPoolExecutor(max_workers=10) as executor:\n",
        "    executor.map(download_and_convert, videos)\n"
      ],
      "metadata": {
        "colab": {
          "base_uri": "https://localhost:8080/"
        },
        "id": "XyZ1wCg6N-zb",
        "outputId": "9ff6a5cc-7e1f-44e2-e5d9-96a7cb58f58e"
      },
      "execution_count": 11,
      "outputs": [
        {
          "output_type": "stream",
          "name": "stderr",
          "text": [
            "WARNING:pytube.contrib.search:Unexpected renderer encountered.\n",
            "WARNING:pytube.contrib.search:Renderer name: dict_keys(['lockupViewModel'])\n",
            "WARNING:pytube.contrib.search:Search term: machine learning tutorials\n",
            "WARNING:pytube.contrib.search:Please open an issue at https://github.com/pytube/pytube/issues and provide this log output.\n",
            "WARNING:pytube.contrib.search:Unexpected renderer encountered.\n",
            "WARNING:pytube.contrib.search:Renderer name: dict_keys(['lockupViewModel'])\n",
            "WARNING:pytube.contrib.search:Search term: machine learning tutorials\n",
            "WARNING:pytube.contrib.search:Please open an issue at https://github.com/pytube/pytube/issues and provide this log output.\n",
            "WARNING:pytube.contrib.search:Unexpected renderer encountered.\n",
            "WARNING:pytube.contrib.search:Renderer name: dict_keys(['lockupViewModel'])\n",
            "WARNING:pytube.contrib.search:Search term: machine learning tutorials\n",
            "WARNING:pytube.contrib.search:Please open an issue at https://github.com/pytube/pytube/issues and provide this log output.\n",
            "WARNING:pytube.contrib.search:Unexpected renderer encountered.\n",
            "WARNING:pytube.contrib.search:Renderer name: dict_keys(['lockupViewModel'])\n",
            "WARNING:pytube.contrib.search:Search term: machine learning tutorials\n",
            "WARNING:pytube.contrib.search:Please open an issue at https://github.com/pytube/pytube/issues and provide this log output.\n",
            "WARNING:pytube.contrib.search:Unexpected renderer encountered.\n",
            "WARNING:pytube.contrib.search:Renderer name: dict_keys(['lockupViewModel'])\n",
            "WARNING:pytube.contrib.search:Search term: machine learning tutorials\n",
            "WARNING:pytube.contrib.search:Please open an issue at https://github.com/pytube/pytube/issues and provide this log output.\n"
          ]
        }
      ]
    },
    {
      "cell_type": "markdown",
      "source": [
        "---\n",
        "###**Q11. Create an automated pipeline using multi-threading for: “Automatic Download of 500 images of Dog from**\n",
        "###**GoogleImages” → “Rescale it to 50%”**\n",
        "---"
      ],
      "metadata": {
        "id": "lkLXA5lVOGKt"
      }
    },
    {
      "cell_type": "code",
      "source": [
        "pip install icrawler\n"
      ],
      "metadata": {
        "colab": {
          "base_uri": "https://localhost:8080/"
        },
        "id": "Q2PnTqt-QW7n",
        "outputId": "75bf4f3f-b0b1-44c8-d690-40f3eae65f9c"
      },
      "execution_count": 13,
      "outputs": [
        {
          "output_type": "stream",
          "name": "stdout",
          "text": [
            "Collecting icrawler\n",
            "  Downloading icrawler-0.6.10-py3-none-any.whl.metadata (6.2 kB)\n",
            "Requirement already satisfied: beautifulsoup4 in /usr/local/lib/python3.11/dist-packages (from icrawler) (4.13.4)\n",
            "Collecting bs4 (from icrawler)\n",
            "  Downloading bs4-0.0.2-py2.py3-none-any.whl.metadata (411 bytes)\n",
            "Requirement already satisfied: lxml in /usr/local/lib/python3.11/dist-packages (from icrawler) (5.4.0)\n",
            "Requirement already satisfied: pillow in /usr/local/lib/python3.11/dist-packages (from icrawler) (11.2.1)\n",
            "Requirement already satisfied: pyyaml in /usr/local/lib/python3.11/dist-packages (from icrawler) (6.0.2)\n",
            "Requirement already satisfied: requests in /usr/local/lib/python3.11/dist-packages (from icrawler) (2.32.3)\n",
            "Requirement already satisfied: six in /usr/local/lib/python3.11/dist-packages (from icrawler) (1.17.0)\n",
            "Requirement already satisfied: soupsieve>1.2 in /usr/local/lib/python3.11/dist-packages (from beautifulsoup4->icrawler) (2.7)\n",
            "Requirement already satisfied: typing-extensions>=4.0.0 in /usr/local/lib/python3.11/dist-packages (from beautifulsoup4->icrawler) (4.14.0)\n",
            "Requirement already satisfied: charset-normalizer<4,>=2 in /usr/local/lib/python3.11/dist-packages (from requests->icrawler) (3.4.2)\n",
            "Requirement already satisfied: idna<4,>=2.5 in /usr/local/lib/python3.11/dist-packages (from requests->icrawler) (3.10)\n",
            "Requirement already satisfied: urllib3<3,>=1.21.1 in /usr/local/lib/python3.11/dist-packages (from requests->icrawler) (2.4.0)\n",
            "Requirement already satisfied: certifi>=2017.4.17 in /usr/local/lib/python3.11/dist-packages (from requests->icrawler) (2025.6.15)\n",
            "Downloading icrawler-0.6.10-py3-none-any.whl (36 kB)\n",
            "Downloading bs4-0.0.2-py2.py3-none-any.whl (1.2 kB)\n",
            "Installing collected packages: bs4, icrawler\n",
            "Successfully installed bs4-0.0.2 icrawler-0.6.10\n"
          ]
        }
      ]
    },
    {
      "cell_type": "code",
      "source": [
        "from concurrent.futures import ThreadPoolExecutor\n",
        "\n",
        "def download_and_convert(video):\n",
        "    filename = video.title + \".mp4\"\n",
        "    video.streams.get_audio_only().download(output_path=\"yt_pipeline\", filename=filename)\n",
        "    clip = VideoFileClip(f\"yt_pipeline/{filename}\")\n",
        "    clip.audio.write_audiofile(f\"yt_pipeline/{filename.replace('.mp4', '.mp3')}\")\n",
        "\n",
        "search = Search(\"machine learning tutorials\")\n",
        "videos = search.results[:100]\n",
        "\n",
        "with ThreadPoolExecutor(max_workers=10) as executor:\n",
        "    executor.map(download_and_convert, videos)\n"
      ],
      "metadata": {
        "colab": {
          "base_uri": "https://localhost:8080/"
        },
        "id": "aTyxxA5-QchG",
        "outputId": "ca0d6137-ad2b-4234-a054-9108b20b3ef7"
      },
      "execution_count": 14,
      "outputs": [
        {
          "output_type": "stream",
          "name": "stderr",
          "text": [
            "WARNING:pytube.contrib.search:Unexpected renderer encountered.\n",
            "WARNING:pytube.contrib.search:Renderer name: dict_keys(['lockupViewModel'])\n",
            "WARNING:pytube.contrib.search:Search term: machine learning tutorials\n",
            "WARNING:pytube.contrib.search:Please open an issue at https://github.com/pytube/pytube/issues and provide this log output.\n",
            "WARNING:pytube.contrib.search:Unexpected renderer encountered.\n",
            "WARNING:pytube.contrib.search:Renderer name: dict_keys(['lockupViewModel'])\n",
            "WARNING:pytube.contrib.search:Search term: machine learning tutorials\n",
            "WARNING:pytube.contrib.search:Please open an issue at https://github.com/pytube/pytube/issues and provide this log output.\n",
            "WARNING:pytube.contrib.search:Unexpected renderer encountered.\n",
            "WARNING:pytube.contrib.search:Renderer name: dict_keys(['lockupViewModel'])\n",
            "WARNING:pytube.contrib.search:Search term: machine learning tutorials\n",
            "WARNING:pytube.contrib.search:Please open an issue at https://github.com/pytube/pytube/issues and provide this log output.\n",
            "WARNING:pytube.contrib.search:Unexpected renderer encountered.\n",
            "WARNING:pytube.contrib.search:Renderer name: dict_keys(['lockupViewModel'])\n",
            "WARNING:pytube.contrib.search:Search term: machine learning tutorials\n",
            "WARNING:pytube.contrib.search:Please open an issue at https://github.com/pytube/pytube/issues and provide this log output.\n",
            "WARNING:pytube.contrib.search:Unexpected renderer encountered.\n",
            "WARNING:pytube.contrib.search:Renderer name: dict_keys(['lockupViewModel'])\n",
            "WARNING:pytube.contrib.search:Search term: machine learning tutorials\n",
            "WARNING:pytube.contrib.search:Please open an issue at https://github.com/pytube/pytube/issues and provide this log output.\n",
            "WARNING:pytube.contrib.search:Unexpected renderer encountered.\n",
            "WARNING:pytube.contrib.search:Renderer name: dict_keys(['lockupViewModel'])\n",
            "WARNING:pytube.contrib.search:Search term: machine learning tutorials\n",
            "WARNING:pytube.contrib.search:Please open an issue at https://github.com/pytube/pytube/issues and provide this log output.\n",
            "WARNING:pytube.contrib.search:Unexpected renderer encountered.\n",
            "WARNING:pytube.contrib.search:Renderer name: dict_keys(['lockupViewModel'])\n",
            "WARNING:pytube.contrib.search:Search term: machine learning tutorials\n",
            "WARNING:pytube.contrib.search:Please open an issue at https://github.com/pytube/pytube/issues and provide this log output.\n"
          ]
        }
      ]
    }
  ],
  "metadata": {
    "colab": {
      "provenance": [],
      "authorship_tag": "ABX9TyPam/LDsd1kOez3qP13D1Eo",
      "include_colab_link": true
    },
    "kernelspec": {
      "display_name": "Python 3",
      "name": "python3"
    },
    "language_info": {
      "name": "python"
    }
  },
  "nbformat": 4,
  "nbformat_minor": 0
}