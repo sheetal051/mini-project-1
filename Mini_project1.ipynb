{
  "nbformat": 4,
  "nbformat_minor": 0,
  "metadata": {
    "colab": {
      "provenance": [],
      "authorship_tag": "ABX9TyN4N28C75KBxdbyhhgTfZNU",
      "include_colab_link": true
    },
    "kernelspec": {
      "name": "python3",
      "display_name": "Python 3"
    },
    "language_info": {
      "name": "python"
    }
  },
  "cells": [
    {
      "cell_type": "markdown",
      "metadata": {
        "id": "view-in-github",
        "colab_type": "text"
      },
      "source": [
        "<a href=\"https://colab.research.google.com/github/sheetal051/mini-project-1/blob/main/Mini_project1.ipynb\" target=\"_parent\"><img src=\"https://colab.research.google.com/assets/colab-badge.svg\" alt=\"Open In Colab\"/></a>"
      ]
    },
    {
      "cell_type": "markdown",
      "source": [
        "---\n",
        "### **L is a list defined as L= [11, 12, 13, 14].**\n",
        "---\n"
      ],
      "metadata": {
        "id": "QE2g00odZQ83"
      }
    },
    {
      "cell_type": "markdown",
      "source": [
        "(i) WAP to add 50 and 60 to L."
      ],
      "metadata": {
        "id": "stOvObYGZtJs"
      }
    },
    {
      "cell_type": "code",
      "execution_count": 3,
      "metadata": {
        "colab": {
          "base_uri": "https://localhost:8080/"
        },
        "id": "IOaskkDwZO9m",
        "outputId": "c617ba7d-ecd1-472b-90ab-dfe8bdaf83fd"
      },
      "outputs": [
        {
          "output_type": "stream",
          "name": "stdout",
          "text": [
            "[11, 12, 13, 14, 50, 60]\n"
          ]
        }
      ],
      "source": [
        " L= [11, 12, 13, 14]\n",
        " L.append(50)\n",
        "L.append(60)\n",
        "print (L)"
      ]
    },
    {
      "cell_type": "markdown",
      "source": [
        "(ii) WAP to remove 11 and 13from L."
      ],
      "metadata": {
        "id": "rNJnG2XzZRxd"
      }
    },
    {
      "cell_type": "code",
      "source": [
        "L= [11, 12, 13, 14]\n",
        "L.remove(11)\n",
        "L.remove(13)\n",
        "print(L)"
      ],
      "metadata": {
        "colab": {
          "base_uri": "https://localhost:8080/"
        },
        "id": "xucEiDJQZSdA",
        "outputId": "3295fe66-4f65-45ea-a058-948483b42a6f"
      },
      "execution_count": 5,
      "outputs": [
        {
          "output_type": "stream",
          "name": "stdout",
          "text": [
            "[12, 14]\n"
          ]
        }
      ]
    },
    {
      "cell_type": "markdown",
      "source": [
        "(iii) WAP to sort L in ascending order."
      ],
      "metadata": {
        "id": "PrwhRmLJbRv2"
      }
    },
    {
      "cell_type": "code",
      "source": [
        "L= [11, 12, 13, 14]\n",
        "L.sort()\n",
        "print(L)"
      ],
      "metadata": {
        "colab": {
          "base_uri": "https://localhost:8080/"
        },
        "id": "GLKye3ZHbWo4",
        "outputId": "c199d342-d63b-4195-d359-bcd55c27054b"
      },
      "execution_count": 6,
      "outputs": [
        {
          "output_type": "stream",
          "name": "stdout",
          "text": [
            "[11, 12, 13, 14]\n"
          ]
        }
      ]
    },
    {
      "cell_type": "markdown",
      "source": [
        "(iv) WAP to sort L in descending order."
      ],
      "metadata": {
        "id": "olUuPyXibvPg"
      }
    },
    {
      "cell_type": "code",
      "source": [
        "L= [11, 12, 13, 14]\n",
        "L.sort(reverse=True)\n",
        "print(L)"
      ],
      "metadata": {
        "colab": {
          "base_uri": "https://localhost:8080/"
        },
        "id": "rTJdiqZJbz3U",
        "outputId": "eccb75cf-0d28-410e-addb-00ce5fe166e3"
      },
      "execution_count": 7,
      "outputs": [
        {
          "output_type": "stream",
          "name": "stdout",
          "text": [
            "[14, 13, 12, 11]\n"
          ]
        }
      ]
    },
    {
      "cell_type": "markdown",
      "source": [
        "(v) WAP to search for 13 in L."
      ],
      "metadata": {
        "id": "nGFIjgJtb-sn"
      }
    },
    {
      "cell_type": "code",
      "source": [
        "L= [11, 12, 13, 14]\n",
        "found = 13 in L\n",
        "print(\"13 found in L?\" , found)"
      ],
      "metadata": {
        "colab": {
          "base_uri": "https://localhost:8080/"
        },
        "id": "ZSM01nPicCbo",
        "outputId": "db2bc3b0-fc39-425f-82c8-dfd800512323"
      },
      "execution_count": 8,
      "outputs": [
        {
          "output_type": "stream",
          "name": "stdout",
          "text": [
            "13 found in L? True\n"
          ]
        }
      ]
    },
    {
      "cell_type": "markdown",
      "source": [
        "(vi) WAP to count the number of elements present in L."
      ],
      "metadata": {
        "id": "Uzkp2g5RcSV2"
      }
    },
    {
      "cell_type": "code",
      "source": [
        "L= [11, 12, 13, 14]\n",
        "count = len(L)\n",
        "print(\"Number of elements:\", count)"
      ],
      "metadata": {
        "colab": {
          "base_uri": "https://localhost:8080/"
        },
        "id": "5nYdwaDxcXTw",
        "outputId": "9c5e7b8f-1032-4062-b59a-a422414092a0"
      },
      "execution_count": 9,
      "outputs": [
        {
          "output_type": "stream",
          "name": "stdout",
          "text": [
            "Number of elements: 4\n"
          ]
        }
      ]
    },
    {
      "cell_type": "markdown",
      "source": [
        "(vii) WAP to sum all the elements in L.\n"
      ],
      "metadata": {
        "id": "VggkoQqbcibb"
      }
    },
    {
      "cell_type": "code",
      "source": [
        "L= [11, 12, 13, 14]\n",
        "total_sum = sum(L)\n",
        "print(\"Sum of all elements:\", total_sum)"
      ],
      "metadata": {
        "colab": {
          "base_uri": "https://localhost:8080/"
        },
        "id": "TwPXpiFYclAP",
        "outputId": "dce42cc9-1841-478a-9b35-1c494861a0fc"
      },
      "execution_count": 10,
      "outputs": [
        {
          "output_type": "stream",
          "name": "stdout",
          "text": [
            "Sum of all elements: 50\n"
          ]
        }
      ]
    },
    {
      "cell_type": "markdown",
      "source": [
        "(viii) WAP to sum all ODD numbers in L."
      ],
      "metadata": {
        "id": "ZiXhDaOnctRJ"
      }
    },
    {
      "cell_type": "code",
      "source": [
        "L= [11, 12, 13, 14]\n",
        "odd_sum = sum(x for x in L if x % 2 != 0)\n",
        "print(\"Sum of odd numbers:\", odd_sum)"
      ],
      "metadata": {
        "colab": {
          "base_uri": "https://localhost:8080/"
        },
        "id": "3gN3uxvecvzC",
        "outputId": "cd049f8f-0ae9-4958-ae74-28ec7f0be88d"
      },
      "execution_count": 11,
      "outputs": [
        {
          "output_type": "stream",
          "name": "stdout",
          "text": [
            "Sum of odd numbers: 24\n"
          ]
        }
      ]
    },
    {
      "cell_type": "markdown",
      "source": [
        "(ix) WAP to sum all EVEN numbers in L."
      ],
      "metadata": {
        "id": "vIRrqW4Nc3SE"
      }
    },
    {
      "cell_type": "code",
      "source": [
        "L= [11, 12, 13, 14]\n",
        "even_sum = sum(x for x in L if x % 2 == 0)\n",
        "print(\"Sum of even numbers:\", even_sum)"
      ],
      "metadata": {
        "colab": {
          "base_uri": "https://localhost:8080/"
        },
        "id": "6yDIvr_Cc6t4",
        "outputId": "7bbe2270-716c-4870-cb4e-0813b7424c25"
      },
      "execution_count": 12,
      "outputs": [
        {
          "output_type": "stream",
          "name": "stdout",
          "text": [
            "Sum of even numbers: 26\n"
          ]
        }
      ]
    },
    {
      "cell_type": "markdown",
      "source": [
        "(x) WAP to sum all PRIME numbers in L"
      ],
      "metadata": {
        "id": "3ZKQH3cudB5c"
      }
    },
    {
      "cell_type": "code",
      "source": [
        "L= [11, 12, 13, 14]\n",
        "def is_prime(n):\n",
        "    if n < 2:\n",
        "        return False\n",
        "    for i in range(2, int(n ** 0.5)+1):\n",
        "        if n % i == 0:\n",
        "            return False\n",
        "    return True\n",
        "\n",
        "prime_sum = sum(x for x in L if is_prime(x))\n",
        "print(\"Sum of prime numbers:\", prime_sum)"
      ],
      "metadata": {
        "colab": {
          "base_uri": "https://localhost:8080/"
        },
        "id": "tc8AHKQudKUM",
        "outputId": "07899cf6-610d-42fa-f11a-4d4378d0759a"
      },
      "execution_count": 13,
      "outputs": [
        {
          "output_type": "stream",
          "name": "stdout",
          "text": [
            "Sum of prime numbers: 24\n"
          ]
        }
      ]
    },
    {
      "cell_type": "markdown",
      "source": [
        "(xi) WAP to clear all the elements in L."
      ],
      "metadata": {
        "id": "kHINYnSYdWaq"
      }
    },
    {
      "cell_type": "code",
      "source": [
        "L= [11, 12, 13, 14]\n",
        "L.clear()\n",
        "print(\" List after clearing:\", L)"
      ],
      "metadata": {
        "colab": {
          "base_uri": "https://localhost:8080/"
        },
        "id": "lpS3Dm1xdcTs",
        "outputId": "293a4877-6dc1-413a-cb8d-2b1dfae752a8"
      },
      "execution_count": 14,
      "outputs": [
        {
          "output_type": "stream",
          "name": "stdout",
          "text": [
            " List after clearing: []\n"
          ]
        }
      ]
    },
    {
      "cell_type": "markdown",
      "source": [
        "(xii) WAP to delete L."
      ],
      "metadata": {
        "id": "R75z4KJUdoSF"
      }
    },
    {
      "cell_type": "code",
      "source": [
        "L= [11, 12, 13, 14]\n",
        "del L\n",
        "print(\"List deleted.\")"
      ],
      "metadata": {
        "colab": {
          "base_uri": "https://localhost:8080/"
        },
        "id": "Y_7PWGo2dsNo",
        "outputId": "e8a6120c-f249-45ff-d01b-010ecd26c5b8"
      },
      "execution_count": 15,
      "outputs": [
        {
          "output_type": "stream",
          "name": "stdout",
          "text": [
            "List deleted.\n"
          ]
        }
      ]
    },
    {
      "cell_type": "markdown",
      "source": [
        "---\n",
        "### **Q2.D is a dictionary defined as D= {1:5.6, 2:7.8, 3:6.6, 4:8.7, 5:7.7}.**\n",
        "---"
      ],
      "metadata": {
        "id": "1BaPoWgmd07x"
      }
    },
    {
      "cell_type": "markdown",
      "source": [
        "(i) WAP to add new entry in D; key=8 and value is 8.8\n"
      ],
      "metadata": {
        "id": "UID1NKGreWLn"
      }
    },
    {
      "cell_type": "code",
      "source": [
        "D= {1:5.6, 2:7.8, 3:6.6, 4:8.7, 5:7.7}\n",
        "D[8] = 8.8\n",
        "print(D)"
      ],
      "metadata": {
        "colab": {
          "base_uri": "https://localhost:8080/"
        },
        "id": "vNiFdICzej98",
        "outputId": "b176d0a3-fbc9-46fb-95eb-f6b07989820b"
      },
      "execution_count": 16,
      "outputs": [
        {
          "output_type": "stream",
          "name": "stdout",
          "text": [
            "{1: 5.6, 2: 7.8, 3: 6.6, 4: 8.7, 5: 7.7, 8: 8.8}\n"
          ]
        }
      ]
    },
    {
      "cell_type": "markdown",
      "source": [
        "(ii) WAP to remove key=2"
      ],
      "metadata": {
        "id": "ranctOZNerV4"
      }
    },
    {
      "cell_type": "code",
      "source": [
        "D= {1:5.6, 2:7.8, 3:6.6, 4:8.7, 5:7.7}\n",
        "D.pop(2)\n",
        "print(D)"
      ],
      "metadata": {
        "colab": {
          "base_uri": "https://localhost:8080/"
        },
        "id": "y9be8Q-Se3VP",
        "outputId": "528cc621-e1a7-43ab-ed89-21b8e4b55c68"
      },
      "execution_count": 17,
      "outputs": [
        {
          "output_type": "stream",
          "name": "stdout",
          "text": [
            "{1: 5.6, 3: 6.6, 4: 8.7, 5: 7.7}\n"
          ]
        }
      ]
    },
    {
      "cell_type": "markdown",
      "source": [
        "(iii) WAP to check weather 6 key is present in D."
      ],
      "metadata": {
        "id": "Z0HhMMczfCS-"
      }
    },
    {
      "cell_type": "code",
      "source": [
        "D= {1:5.6, 2:7.8, 3:6.6, 4:8.7, 5:7.7}\n",
        "is_present = 6 in D\n",
        "print(\"Is key 6 present?\", is_present)"
      ],
      "metadata": {
        "colab": {
          "base_uri": "https://localhost:8080/"
        },
        "id": "zL2dBTZUj5O3",
        "outputId": "5f437ae5-eeb0-4fa8-b7bd-44bc0f2fb268"
      },
      "execution_count": 18,
      "outputs": [
        {
          "output_type": "stream",
          "name": "stdout",
          "text": [
            "Is key 6 present? False\n"
          ]
        }
      ]
    },
    {
      "cell_type": "markdown",
      "source": [
        "(iv) WAP to count the number of elements present in D"
      ],
      "metadata": {
        "id": "bOyeCmfKkD8X"
      }
    },
    {
      "cell_type": "code",
      "source": [
        "D= {1:5.6, 2:7.8, 3:6.6, 4:8.7, 5:7.7}\n",
        "count = len(D)\n",
        "print(\"Number of elements:\", count)"
      ],
      "metadata": {
        "colab": {
          "base_uri": "https://localhost:8080/"
        },
        "id": "0W2a5jKykG_r",
        "outputId": "b2ad90ac-6a56-48da-bdff-0211d1aaac9d"
      },
      "execution_count": 19,
      "outputs": [
        {
          "output_type": "stream",
          "name": "stdout",
          "text": [
            "Number of elements: 5\n"
          ]
        }
      ]
    },
    {
      "cell_type": "markdown",
      "source": [
        "(v) WAP to add all the values present D."
      ],
      "metadata": {
        "id": "Nipq42DukOp9"
      }
    },
    {
      "cell_type": "code",
      "source": [
        "D= {1:5.6, 2:7.8, 3:6.6, 4:8.7, 5:7.7}\n",
        "total = sum(D.values())\n",
        "print(\"Sum of all values:\", total)"
      ],
      "metadata": {
        "colab": {
          "base_uri": "https://localhost:8080/"
        },
        "id": "LErn12gikW63",
        "outputId": "a0645364-5d57-4974-f117-d69ea8d74c12"
      },
      "execution_count": 21,
      "outputs": [
        {
          "output_type": "stream",
          "name": "stdout",
          "text": [
            "Sum of all values: 36.4\n"
          ]
        }
      ]
    },
    {
      "cell_type": "markdown",
      "source": [
        "(vi) WAP to update the value of 3 to 7.1.\n"
      ],
      "metadata": {
        "id": "YzuIaeR_kSW-"
      }
    },
    {
      "cell_type": "code",
      "source": [
        "D= {1:5.6, 2:7.8, 3:6.6, 4:8.7, 5:7.7}\n",
        "D[3] = 7.1\n",
        "print(D)"
      ],
      "metadata": {
        "colab": {
          "base_uri": "https://localhost:8080/"
        },
        "id": "9k2JAeSBkghJ",
        "outputId": "58803afb-3fdd-40b4-eae6-4a5280b7d5c2"
      },
      "execution_count": 22,
      "outputs": [
        {
          "output_type": "stream",
          "name": "stdout",
          "text": [
            "{1: 5.6, 2: 7.8, 3: 7.1, 4: 8.7, 5: 7.7}\n"
          ]
        }
      ]
    },
    {
      "cell_type": "markdown",
      "source": [
        "(vii) WAP to clear the dictionary."
      ],
      "metadata": {
        "id": "S4nRxJ7VkqAg"
      }
    },
    {
      "cell_type": "code",
      "source": [
        "D= {1:5.6, 2:7.8, 3:6.6, 4:8.7, 5:7.7}\n",
        "D.clear()\n",
        "print(\"Dictionary after clearing:\", D)"
      ],
      "metadata": {
        "colab": {
          "base_uri": "https://localhost:8080/"
        },
        "id": "zXCIHJwMktSp",
        "outputId": "4ec2fb3d-d4c7-47d4-9061-1c2aa260abe7"
      },
      "execution_count": 23,
      "outputs": [
        {
          "output_type": "stream",
          "name": "stdout",
          "text": [
            "Dictionary after clearing: {}\n"
          ]
        }
      ]
    },
    {
      "cell_type": "markdown",
      "source": [
        "----\n",
        "### **Q3. S1 is a set defined as S1= [10, 20, 30, 40, 50, 60].**\n",
        "### ** S2 is a set defined as S2= [40, 50, 60, 70, 80, 90].**\n",
        "\n",
        "---\n",
        "\n"
      ],
      "metadata": {
        "id": "N4RZZ7Qvk3kf"
      }
    },
    {
      "cell_type": "markdown",
      "source": [
        "(i) WAP to add 55 and 66 in Set S1."
      ],
      "metadata": {
        "id": "TzPwho6plR5b"
      }
    },
    {
      "cell_type": "code",
      "source": [
        "S1= [10, 20, 30, 40, 50, 60]\n",
        "S2= [40, 50, 60, 70, 80, 90]\n",
        "S1.append(55)\n",
        "S1.append(66)\n",
        "print(S1)"
      ],
      "metadata": {
        "colab": {
          "base_uri": "https://localhost:8080/"
        },
        "id": "maZli53zlVX1",
        "outputId": "b9196ea4-8379-48a1-d660-625e61819929"
      },
      "execution_count": 30,
      "outputs": [
        {
          "output_type": "stream",
          "name": "stdout",
          "text": [
            "[10, 20, 30, 40, 50, 60, 55, 66]\n"
          ]
        }
      ]
    },
    {
      "cell_type": "markdown",
      "source": [
        "(ii) WAP to remove 10 and 30 from Set S1."
      ],
      "metadata": {
        "id": "wAqvz8r1mavw"
      }
    },
    {
      "cell_type": "code",
      "source": [
        "S1= [10, 20, 30, 40, 50, 60]\n",
        "S2= [40, 50, 60, 70, 80, 90]\n",
        "S1.remove(10)  # discard won't raise error if item not found\n",
        "S1.remove(30)\n",
        "print(S1)"
      ],
      "metadata": {
        "colab": {
          "base_uri": "https://localhost:8080/"
        },
        "id": "t4FpxHhHmfEK",
        "outputId": "46bf9e6f-7b82-457d-e3b3-594be0d39b39"
      },
      "execution_count": 32,
      "outputs": [
        {
          "output_type": "stream",
          "name": "stdout",
          "text": [
            "[20, 40, 50, 60]\n"
          ]
        }
      ]
    },
    {
      "cell_type": "markdown",
      "source": [
        "(iii) WAP to check whether 40 is present in S1."
      ],
      "metadata": {
        "id": "Ep3R1LsunFIW"
      }
    },
    {
      "cell_type": "code",
      "source": [
        "S1= [10, 20, 30, 40, 50, 60]\n",
        "S2= [40, 50, 60, 70, 80, 90]\n",
        "is_present = 40 in S1\n",
        "print(\"Is 40 present in S1?\", is_present)"
      ],
      "metadata": {
        "colab": {
          "base_uri": "https://localhost:8080/"
        },
        "id": "b28MIbnSnJEp",
        "outputId": "e1b4abdf-158c-4901-f591-a785b2df7e37"
      },
      "execution_count": 33,
      "outputs": [
        {
          "output_type": "stream",
          "name": "stdout",
          "text": [
            "Is 40 present in S1? True\n"
          ]
        }
      ]
    },
    {
      "cell_type": "markdown",
      "source": [
        "(iv) WAP to find the union between S1 and S2."
      ],
      "metadata": {
        "id": "xTZyTzwqog2p"
      }
    },
    {
      "cell_type": "code",
      "source": [
        "set1= set(S1)\n",
        "set2= set(S2)\n",
        "union_set = set1.union(set2)\n",
        "print(\"Union of set1 and set2:\", union_set)"
      ],
      "metadata": {
        "colab": {
          "base_uri": "https://localhost:8080/"
        },
        "id": "_ozbaYLzokjJ",
        "outputId": "7735aee3-069a-4e78-e276-8a8c4296872b"
      },
      "execution_count": 40,
      "outputs": [
        {
          "output_type": "stream",
          "name": "stdout",
          "text": [
            "Union of set1 and set2: {70, 40, 10, 80, 50, 20, 90, 60, 30}\n"
          ]
        }
      ]
    },
    {
      "cell_type": "markdown",
      "source": [
        "(v) WAP to find the intersection between S1 and S2."
      ],
      "metadata": {
        "id": "z6gOVSAjpa2S"
      }
    },
    {
      "cell_type": "code",
      "source": [
        "set1= set(S1)\n",
        "set2= set(S2)\n",
        "intersection_set = set1.intersection(set2)\n",
        "print(\"(v) Intersection of set1 and set2:\", intersection_set)"
      ],
      "metadata": {
        "colab": {
          "base_uri": "https://localhost:8080/"
        },
        "id": "1Rir-Ofxpd-g",
        "outputId": "12ac68e6-61d1-4b0f-eb5c-fd076a74ff43"
      },
      "execution_count": 41,
      "outputs": [
        {
          "output_type": "stream",
          "name": "stdout",
          "text": [
            "(v) Intersection of set1 and set2: {40, 50, 60}\n"
          ]
        }
      ]
    },
    {
      "cell_type": "markdown",
      "source": [
        "(vi) WAP to find the S1 - S2."
      ],
      "metadata": {
        "id": "Ai9chuASp8b-"
      }
    },
    {
      "cell_type": "code",
      "source": [
        "set1= set(S1)\n",
        "set2= set(S2)\n",
        "difference_set = set1.difference(set2)\n",
        "print(\"set1 - set2:\", difference_set)"
      ],
      "metadata": {
        "colab": {
          "base_uri": "https://localhost:8080/"
        },
        "id": "8FbW13NlqAc3",
        "outputId": "67bf532d-6d12-4114-d2a7-7d8c62362cb8"
      },
      "execution_count": 43,
      "outputs": [
        {
          "output_type": "stream",
          "name": "stdout",
          "text": [
            "set1 - set2: {10, 20, 30}\n"
          ]
        }
      ]
    },
    {
      "cell_type": "markdown",
      "source": [
        "----\n",
        "### **Q4. Write the following program.**\n",
        "----"
      ],
      "metadata": {
        "id": "2XlMoBtlqfZ1"
      }
    },
    {
      "cell_type": "markdown",
      "source": [
        "(i) WAP to print 100 random strings whose length between 6 and 8.\n"
      ],
      "metadata": {
        "id": "IYHHdio3q-v8"
      }
    },
    {
      "cell_type": "code",
      "source": [
        "import random\n",
        "import string\n",
        "\n",
        "print(\"100 Random Strings:\")\n",
        "for _ in range(100):\n",
        "    length = random.randint(6, 8)\n",
        "    random_string = ''.join(random.choices(string.ascii_letters, k=length))\n",
        "    print(random_string)"
      ],
      "metadata": {
        "colab": {
          "base_uri": "https://localhost:8080/"
        },
        "id": "tLnG1xb3qtcF",
        "outputId": "c388df1a-587f-4e14-aacb-eb5f5a132608"
      },
      "execution_count": 44,
      "outputs": [
        {
          "output_type": "stream",
          "name": "stdout",
          "text": [
            "100 Random Strings:\n",
            "mRvqCVgy\n",
            "JSgTwi\n",
            "AHIwQPyu\n",
            "QhCuIUD\n",
            "ULrLAfb\n",
            "ScsZtzI\n",
            "vHEwgax\n",
            "sRoOya\n",
            "vvCDHXU\n",
            "kTFuXH\n",
            "aunzlK\n",
            "dhIjBf\n",
            "JTbJWc\n",
            "FbOoRr\n",
            "nZZIbb\n",
            "repukY\n",
            "xcSEob\n",
            "dsyYVh\n",
            "pHdGPZ\n",
            "GcUiha\n",
            "wgGFsxY\n",
            "ndaFNSAO\n",
            "sQfgkEyd\n",
            "rlIbNu\n",
            "lwQjzPZg\n",
            "sEacQdd\n",
            "pECuPrY\n",
            "Jyhxcr\n",
            "CPdNDT\n",
            "nRvLvyyu\n",
            "hAsxCJ\n",
            "ABfIfu\n",
            "QcMZVZxB\n",
            "wAFjbKEj\n",
            "aFtTsvP\n",
            "BmtGjvbm\n",
            "DDFGsX\n",
            "ObyYQIev\n",
            "NguPiZVp\n",
            "oSukTKOY\n",
            "AaGULvad\n",
            "EXzUax\n",
            "xoBYpEA\n",
            "BJbiMP\n",
            "bYBoBhMw\n",
            "lKBRytMH\n",
            "eQuxrsyj\n",
            "ZYAcVxE\n",
            "cCpize\n",
            "RHjJWA\n",
            "CpZHWJ\n",
            "gwYZIec\n",
            "gKJemuo\n",
            "WezVaR\n",
            "fuTEDKR\n",
            "aeHYxwH\n",
            "SNCmOd\n",
            "MoEdZB\n",
            "JPsPFy\n",
            "CZmZmQR\n",
            "DNvYeaT\n",
            "RkjKkYe\n",
            "JmXmhN\n",
            "LbcDbjwJ\n",
            "JeXESxuE\n",
            "oIWHoazK\n",
            "NIbBAnMR\n",
            "WYpXQHco\n",
            "fydDTtM\n",
            "jiuSKB\n",
            "hPPgWq\n",
            "KVLbqoQ\n",
            "pGfAbQv\n",
            "TLnXaag\n",
            "UPzZANWn\n",
            "loxVru\n",
            "oEjexk\n",
            "KYvIer\n",
            "rDSvWf\n",
            "FgpabASh\n",
            "CrXkqtXW\n",
            "ffQkfWda\n",
            "FWqrcsTK\n",
            "OEGwgx\n",
            "oiDnylS\n",
            "jQHheGLp\n",
            "LzbdwRz\n",
            "vzpSMNlv\n",
            "QpQokXj\n",
            "FDjafOj\n",
            "GPNWVzd\n",
            "zQuszbr\n",
            "CAhDOYK\n",
            "TwWlXuk\n",
            "xrscyEkn\n",
            "VHyMLAr\n",
            "PpEgvsv\n",
            "vFICVlK\n",
            "NlyVZTPL\n",
            "gpWiobZ\n"
          ]
        }
      ]
    },
    {
      "cell_type": "markdown",
      "source": [
        "(ii) WAP to print all prime numbers between 600 and 800."
      ],
      "metadata": {
        "id": "U-0q-qtxrLbC"
      }
    },
    {
      "cell_type": "code",
      "source": [
        "def is_prime(n):\n",
        "    if n < 2:\n",
        "        return False\n",
        "    for i in range(2, int(n**0.5) + 1):\n",
        "        if n % i == 0:\n",
        "            return False\n",
        "    return True\n",
        "\n",
        "print(\"Prime numbers between 600 and 800:\")\n",
        "for num in range(600, 801):\n",
        "    if is_prime(num):\n",
        "        print(num, end=' ')\n",
        "print()"
      ],
      "metadata": {
        "colab": {
          "base_uri": "https://localhost:8080/"
        },
        "id": "1Zwov-uirP-G",
        "outputId": "c28653f8-114e-4917-bcfc-51358d854226"
      },
      "execution_count": 45,
      "outputs": [
        {
          "output_type": "stream",
          "name": "stdout",
          "text": [
            "Prime numbers between 600 and 800:\n",
            "601 607 613 617 619 631 641 643 647 653 659 661 673 677 683 691 701 709 719 727 733 739 743 751 757 761 769 773 787 797 \n"
          ]
        }
      ]
    },
    {
      "cell_type": "markdown",
      "source": [
        "(iii) WAP to print all numbers between 100 and 1000 that are divisible by 7 and 9."
      ],
      "metadata": {
        "id": "j3r8q9wYrYHH"
      }
    },
    {
      "cell_type": "code",
      "source": [
        "print(\"Numbers between 100 and 1000 divisible by both 7 and 9:\")\n",
        "for num in range(100, 1001):\n",
        "    if num % 7 == 0 and num % 9 == 0:\n",
        "        print(num, end=' ')\n",
        "print()"
      ],
      "metadata": {
        "colab": {
          "base_uri": "https://localhost:8080/"
        },
        "id": "WGaGEZT1rc6v",
        "outputId": "6dde6c37-8878-4dc9-d978-64cbc4ca33e6"
      },
      "execution_count": 46,
      "outputs": [
        {
          "output_type": "stream",
          "name": "stdout",
          "text": [
            "Numbers between 100 and 1000 divisible by both 7 and 9:\n",
            "126 189 252 315 378 441 504 567 630 693 756 819 882 945 \n"
          ]
        }
      ]
    },
    {
      "cell_type": "markdown",
      "source": [
        "---\n",
        "###**Q5. WAP to create two lists of 10 random numbers between 10 and 30; Find**\n",
        "---"
      ],
      "metadata": {
        "id": "JGTuzS4wrifu"
      }
    },
    {
      "cell_type": "markdown",
      "source": [
        "(i) Common numbers in the two lists\n"
      ],
      "metadata": {
        "id": "3q2sqvRqrwgs"
      }
    },
    {
      "cell_type": "code",
      "source": [
        "import random\n",
        "list1 = [random.randint(10, 30) for _ in range(10)]\n",
        "list2 = [random.randint(10, 30) for _ in range(10)]\n",
        "\n",
        "print(\"List 1:\", list1)\n",
        "print(\"List 2:\", list2)\n",
        "common = list(set(list1) & set(list2))\n",
        "print(\"Common numbers:\", common)"
      ],
      "metadata": {
        "colab": {
          "base_uri": "https://localhost:8080/"
        },
        "id": "L6bKVMFLruCr",
        "outputId": "6a47fac0-aa7d-4ab1-c882-97b8fd0bc826"
      },
      "execution_count": 48,
      "outputs": [
        {
          "output_type": "stream",
          "name": "stdout",
          "text": [
            "List 1: [17, 15, 13, 17, 16, 28, 20, 17, 13, 14]\n",
            "List 2: [15, 24, 16, 26, 16, 29, 17, 22, 22, 27]\n",
            "Common numbers: [16, 17, 15]\n"
          ]
        }
      ]
    },
    {
      "cell_type": "markdown",
      "source": [
        "(ii) Unique numbers in both the list\n"
      ],
      "metadata": {
        "id": "geECASyEtB-q"
      }
    },
    {
      "cell_type": "code",
      "source": [
        "import random\n",
        "list1 = [random.randint(10, 30) for _ in range(10)]\n",
        "list2 = [random.randint(10, 30) for _ in range(10)]\n",
        "\n",
        "print(\"List 1:\", list1)\n",
        "print(\"List 2:\", list2)\n",
        "unique = list(set(list1) ^ set(list2))\n",
        "print(\" Unique numbers in both lists:\", unique)"
      ],
      "metadata": {
        "colab": {
          "base_uri": "https://localhost:8080/"
        },
        "id": "S7ibTK7JtFC1",
        "outputId": "ca9f7fc0-47dd-433a-f5f9-4a2569a15341"
      },
      "execution_count": 53,
      "outputs": [
        {
          "output_type": "stream",
          "name": "stdout",
          "text": [
            "List 1: [17, 24, 27, 23, 25, 14, 20, 27, 10, 12]\n",
            "List 2: [11, 11, 29, 16, 23, 17, 23, 18, 29, 29]\n",
            " Unique numbers in both lists: [10, 11, 12, 14, 16, 18, 20, 24, 25, 27, 29]\n"
          ]
        }
      ]
    },
    {
      "cell_type": "markdown",
      "source": [
        "iii) Minimum in both the list"
      ],
      "metadata": {
        "id": "24WvbIT8tPed"
      }
    },
    {
      "cell_type": "code",
      "source": [
        "import random\n",
        "list1 = [random.randint(10, 30) for _ in range(10)]\n",
        "list2 = [random.randint(10, 30) for _ in range(10)]\n",
        "\n",
        "print(\"List 1:\", list1)\n",
        "print(\"List 2:\", list2)\n",
        "min_list1 = min(list1)\n",
        "min_list2 = min(list2)\n",
        "print(\"Minimum in List 1:\", min_list1)\n",
        "print(\"      Minimum in List 2:\", min_list2)"
      ],
      "metadata": {
        "colab": {
          "base_uri": "https://localhost:8080/"
        },
        "id": "8sH1XNihtOxN",
        "outputId": "81583eb6-b25b-45b5-e764-bd2abbc7b0dc"
      },
      "execution_count": 52,
      "outputs": [
        {
          "output_type": "stream",
          "name": "stdout",
          "text": [
            "List 1: [26, 24, 17, 26, 19, 24, 28, 28, 24, 11]\n",
            "List 2: [27, 21, 28, 25, 15, 27, 18, 11, 19, 14]\n",
            "Minimum in List 1: 11\n",
            "      Minimum in List 2: 11\n"
          ]
        }
      ]
    },
    {
      "cell_type": "markdown",
      "source": [
        "(iv) Maximum in both the list\n"
      ],
      "metadata": {
        "id": "qApUjsEQtVDd"
      }
    },
    {
      "cell_type": "code",
      "source": [
        "import random\n",
        "list1 = [random.randint(10, 30) for _ in range(10)]\n",
        "list2 = [random.randint(10, 30) for _ in range(10)]\n",
        "\n",
        "print(\"List 1:\", list1)\n",
        "print(\"List 2:\", list2)\n",
        "max_list1 = max(list1)\n",
        "max_list2 = max(list2)\n",
        "print(\"Maximum in List 1:\", max_list1)\n",
        "print(\" Maximum in List 2:\", max_list2)"
      ],
      "metadata": {
        "colab": {
          "base_uri": "https://localhost:8080/"
        },
        "id": "6fByfEottV26",
        "outputId": "e09f9884-bed4-484f-ebee-3cf06d860444"
      },
      "execution_count": 51,
      "outputs": [
        {
          "output_type": "stream",
          "name": "stdout",
          "text": [
            "List 1: [15, 15, 11, 11, 19, 27, 22, 26, 29, 21]\n",
            "List 2: [29, 18, 30, 24, 17, 19, 11, 21, 23, 16]\n",
            "Maximum in List 1: 29\n",
            " Maximum in List 2: 30\n"
          ]
        }
      ]
    },
    {
      "cell_type": "markdown",
      "source": [
        "(v) Sum of both the lists"
      ],
      "metadata": {
        "id": "56unuqnUtayY"
      }
    },
    {
      "cell_type": "code",
      "source": [
        "import random\n",
        "list1 = [random.randint(10, 30) for _ in range(10)]\n",
        "list2 = [random.randint(10, 30) for _ in range(10)]\n",
        "\n",
        "print(\"List 1:\", list1)\n",
        "print(\"List 2:\", list2)\n",
        "sum_list1 = sum(list1)\n",
        "sum_list2 = sum(list2)\n",
        "total_sum = sum_list1 + sum_list2\n",
        "print(\" Sum of List 1:\", sum_list1)\n",
        "print(\"    Sum of List 2:\", sum_list2)\n",
        "print(\"    Total sum:\", total_sum)"
      ],
      "metadata": {
        "colab": {
          "base_uri": "https://localhost:8080/"
        },
        "id": "r3Y53ruotbM8",
        "outputId": "4f1c10f4-08f2-4477-87ea-edd4ffdc639b"
      },
      "execution_count": 54,
      "outputs": [
        {
          "output_type": "stream",
          "name": "stdout",
          "text": [
            "List 1: [16, 30, 16, 22, 14, 30, 21, 29, 20, 22]\n",
            "List 2: [19, 20, 23, 19, 16, 22, 14, 12, 28, 16]\n",
            " Sum of List 1: 220\n",
            "    Sum of List 2: 189\n",
            "    Total sum: 409\n"
          ]
        }
      ]
    },
    {
      "cell_type": "markdown",
      "source": [
        "---\n",
        "###**Q6. WAP to create a list of 100 random numbers between 100 and 900. Count and print the:**\n",
        "---"
      ],
      "metadata": {
        "id": "UCVjqslNt6dn"
      }
    },
    {
      "cell_type": "markdown",
      "source": [
        "(i) All odd numbers"
      ],
      "metadata": {
        "id": "w9I8oNzJuThr"
      }
    },
    {
      "cell_type": "code",
      "source": [
        "import random\n",
        "numbers = [random.randint(100, 900) for _ in range(100)]\n",
        "print(\"Generated Numbers:\\n\", numbers)\n",
        "odd_numbers = [num for num in numbers if num % 2 != 0]\n",
        "print(\"Odd Numbers (Total =\", len(odd_numbers), \"):\")\n",
        "print(odd_numbers)"
      ],
      "metadata": {
        "colab": {
          "base_uri": "https://localhost:8080/"
        },
        "id": "PbCCVu9cueMe",
        "outputId": "25a1bd8a-78de-4070-cc57-467af15a9964"
      },
      "execution_count": 55,
      "outputs": [
        {
          "output_type": "stream",
          "name": "stdout",
          "text": [
            "Generated Numbers:\n",
            " [785, 465, 654, 170, 616, 569, 647, 265, 437, 636, 340, 362, 442, 579, 617, 518, 799, 408, 279, 794, 527, 570, 116, 197, 590, 267, 167, 418, 749, 300, 693, 396, 652, 595, 139, 701, 146, 504, 106, 736, 464, 677, 532, 767, 166, 363, 177, 256, 475, 571, 268, 168, 621, 621, 744, 158, 444, 823, 580, 785, 387, 242, 703, 307, 611, 214, 447, 775, 428, 373, 543, 525, 570, 738, 318, 534, 668, 158, 826, 418, 697, 132, 279, 219, 595, 130, 269, 324, 175, 876, 863, 767, 858, 561, 639, 577, 246, 640, 340, 881]\n",
            "Odd Numbers (Total = 50 ):\n",
            "[785, 465, 569, 647, 265, 437, 579, 617, 799, 279, 527, 197, 267, 167, 749, 693, 595, 139, 701, 677, 767, 363, 177, 475, 571, 621, 621, 823, 785, 387, 703, 307, 611, 447, 775, 373, 543, 525, 697, 279, 219, 595, 269, 175, 863, 767, 561, 639, 577, 881]\n"
          ]
        }
      ]
    },
    {
      "cell_type": "markdown",
      "source": [
        "(ii) All even numbers\n"
      ],
      "metadata": {
        "id": "yXzw-D68unwV"
      }
    },
    {
      "cell_type": "code",
      "source": [
        "import random\n",
        "numbers = [random.randint(100, 900) for _ in range(100)]\n",
        "print(\"Generated Numbers:\\n\", numbers)\n",
        "odd_numbers = [num for num in numbers if num % 2 != 0]\n",
        "even_numbers = [num for num in numbers if num % 2 == 0]\n",
        "print(\"Even Numbers (Total =\", len(even_numbers), \"):\")\n",
        "print(even_numbers)"
      ],
      "metadata": {
        "colab": {
          "base_uri": "https://localhost:8080/"
        },
        "id": "24VC9lA3uq4G",
        "outputId": "d7b25e81-66f7-436b-f1bc-134c0c553fbf"
      },
      "execution_count": 57,
      "outputs": [
        {
          "output_type": "stream",
          "name": "stdout",
          "text": [
            "Generated Numbers:\n",
            " [698, 517, 421, 137, 653, 452, 848, 319, 877, 279, 469, 666, 366, 556, 584, 364, 536, 191, 693, 459, 198, 323, 241, 179, 875, 336, 468, 875, 126, 127, 588, 315, 825, 511, 577, 321, 584, 825, 818, 821, 467, 222, 399, 372, 813, 171, 503, 626, 229, 687, 590, 400, 284, 434, 273, 609, 282, 303, 482, 724, 297, 131, 219, 212, 410, 328, 826, 562, 670, 622, 791, 258, 809, 176, 714, 592, 328, 103, 178, 348, 601, 398, 222, 844, 850, 754, 418, 594, 223, 805, 372, 571, 699, 324, 180, 465, 130, 711, 484, 191]\n",
            "Even Numbers (Total = 52 ):\n",
            "[698, 452, 848, 666, 366, 556, 584, 364, 536, 198, 336, 468, 126, 588, 584, 818, 222, 372, 626, 590, 400, 284, 434, 282, 482, 724, 212, 410, 328, 826, 562, 670, 622, 258, 176, 714, 592, 328, 178, 348, 398, 222, 844, 850, 754, 418, 594, 372, 324, 180, 130, 484]\n"
          ]
        }
      ]
    },
    {
      "cell_type": "markdown",
      "source": [
        "(iii) All prime numbers"
      ],
      "metadata": {
        "id": "zgqGsVpNutnp"
      }
    },
    {
      "cell_type": "code",
      "source": [
        "import random\n",
        "numbers = [random.randint(100, 900) for _ in range(100)]\n",
        "print(\"Generated Numbers:\\n\", numbers)\n",
        "odd_numbers = [num for num in numbers if num % 2 != 0]\n",
        "def is_prime(n):\n",
        "    if n < 2:\n",
        "        return False\n",
        "    for i in range(2, int(n**0.5)+1):\n",
        "        if n % i == 0:\n",
        "            return False\n",
        "    return True\n",
        "\n",
        "prime_numbers = [num for num in numbers if is_prime(num)]\n",
        "print(\" Prime Numbers (Total =\", len(prime_numbers), \"):\")\n",
        "print(prime_numbers)"
      ],
      "metadata": {
        "colab": {
          "base_uri": "https://localhost:8080/"
        },
        "id": "QgORRqqEuuL5",
        "outputId": "e2748a18-f5cf-4314-e37d-f0020062f83d"
      },
      "execution_count": 58,
      "outputs": [
        {
          "output_type": "stream",
          "name": "stdout",
          "text": [
            "Generated Numbers:\n",
            " [742, 444, 451, 172, 147, 567, 865, 285, 894, 683, 652, 291, 279, 652, 113, 899, 460, 445, 155, 294, 806, 647, 614, 632, 207, 749, 779, 576, 379, 462, 732, 680, 872, 291, 337, 142, 330, 325, 700, 262, 701, 642, 108, 767, 319, 416, 276, 104, 599, 808, 309, 325, 791, 104, 621, 873, 554, 244, 483, 681, 884, 846, 580, 666, 349, 646, 145, 776, 615, 594, 847, 470, 341, 484, 447, 539, 717, 216, 579, 248, 342, 756, 676, 417, 690, 102, 870, 431, 336, 847, 583, 192, 112, 289, 755, 329, 253, 342, 643, 281]\n",
            " Prime Numbers (Total = 11 ):\n",
            "[683, 113, 647, 379, 337, 701, 599, 349, 431, 643, 281]\n"
          ]
        }
      ]
    },
    {
      "cell_type": "markdown",
      "source": [
        "---\n",
        "###**Q7. D is a dictionary defined as D={1:\"One\",2:\"Two\",3:\"Three\",4:\"Four\", 5:\"Five\"}.**\n",
        "**WAP to read all the keys and values from dictionary and write to the file in the given below format.**\n",
        "\n",
        "Key1, Value1\n",
        "Key2, Value2\n",
        "**Key3, Value3**\n",
        "\n",
        "---"
      ],
      "metadata": {
        "id": "Yvqfn4vLvAhU"
      }
    },
    {
      "cell_type": "code",
      "source": [
        "D = {1: \"One\", 2: \"Two\", 3: \"Three\", 4: \"Four\", 5: \"Five\"}\n",
        "\n",
        "# Open a file in write mode\n",
        "with open(\"dictionary_output.txt\", \"w\") as file:\n",
        "    for key, value in D.items():\n",
        "        file.write(f\"{key}, {value}\\n\")\n",
        "\n",
        "print(\"Data has been written to 'dictionary_output.txt' in the specified format.\")"
      ],
      "metadata": {
        "colab": {
          "base_uri": "https://localhost:8080/"
        },
        "id": "DpdeD_UhvhFr",
        "outputId": "82450502-82d1-4f6a-84f9-ecd868f9908c"
      },
      "execution_count": 59,
      "outputs": [
        {
          "output_type": "stream",
          "name": "stdout",
          "text": [
            "Data has been written to 'dictionary_output.txt' in the specified format.\n"
          ]
        }
      ]
    },
    {
      "cell_type": "markdown",
      "source": [
        "\n",
        "###**Q8. L is a list defined as L={\"One\",\"Two\",\"Three\",\"Four\",\"Five\"}.**\n",
        " **WAP to count the length of reach element from a list and write to the file in the given below format:**\n",
        "**One, 3\n",
        "Two, 3\n",
        "Four, 4**\n"
      ],
      "metadata": {
        "id": "2UsRou2Iwsk9"
      }
    },
    {
      "cell_type": "code",
      "source": [
        "# Define the list\n",
        "L = [\"One\", \"Two\", \"Three\", \"Four\", \"Five\"]\n",
        "\n",
        "# Open the file in write mode\n",
        "with open(\"list_lengths.txt\", \"w\") as file:\n",
        "    for item in L:\n",
        "        length = len(item)\n",
        "        file.write(f\"{item}, {length}\\n\")\n",
        "\n",
        "print(\"Lengths written to 'list_lengths.txt' successfully.\")"
      ],
      "metadata": {
        "colab": {
          "base_uri": "https://localhost:8080/"
        },
        "id": "u2I8kkGgw6ov",
        "outputId": "ac2fba0e-69bc-42c8-b279-40385cc27e8a"
      },
      "execution_count": 60,
      "outputs": [
        {
          "output_type": "stream",
          "name": "stdout",
          "text": [
            "Lengths written to 'list_lengths.txt' successfully.\n"
          ]
        }
      ]
    },
    {
      "cell_type": "markdown",
      "source": [
        "---\n",
        "##**Q9. Write to the file 100 random strings whose length between 10 and 15.**\n",
        "---"
      ],
      "metadata": {
        "id": "YIsfTKWWxXyt"
      }
    },
    {
      "cell_type": "code",
      "source": [
        "import random\n",
        "import string\n",
        "\n",
        "# Open file for writing\n",
        "with open(\"random_strings.txt\", \"w\") as file:\n",
        "    for _ in range(100):\n",
        "        length = random.randint(10, 15)\n",
        "        random_str = ''.join(random.choices(string.ascii_letters + string.digits, k=length))\n",
        "        file.write(random_str + \"\\n\")\n",
        "\n",
        "print(\"100 random strings written to 'random_strings.txt'.\")"
      ],
      "metadata": {
        "colab": {
          "base_uri": "https://localhost:8080/"
        },
        "id": "O4XfPPWoxgCY",
        "outputId": "64a398cb-5d84-4e49-d726-1dbee4c0f91f"
      },
      "execution_count": 61,
      "outputs": [
        {
          "output_type": "stream",
          "name": "stdout",
          "text": [
            "100 random strings written to 'random_strings.txt'.\n"
          ]
        }
      ]
    },
    {
      "cell_type": "markdown",
      "source": [
        "---\n",
        "###**Q10. Write to the file all prime numbers between 600 and 800.**\n",
        "---"
      ],
      "metadata": {
        "id": "OcdAmTxtx01a"
      }
    },
    {
      "cell_type": "code",
      "source": [
        "# Function to check if a number is prime\n",
        "def is_prime(n):\n",
        "    if n < 2:\n",
        "        return False\n",
        "    for i in range(2, int(n ** 0.5) + 1):\n",
        "        if n % i == 0:\n",
        "            return False\n",
        "    return True\n",
        "\n",
        "# Open the file for writing\n",
        "with open(\"prime_600_800.txt\", \"w\") as file:\n",
        "    for num in range(600, 801):\n",
        "        if is_prime(num):\n",
        "            file.write(str(num) + \"\\n\")\n",
        "\n",
        "print(\"Prime numbers between 600 and 800 written to 'prime_600_800.txt'.\")"
      ],
      "metadata": {
        "colab": {
          "base_uri": "https://localhost:8080/"
        },
        "id": "ToAB9WVjynwv",
        "outputId": "f35feba2-f727-44bd-e00e-0ea4b0f79dbf"
      },
      "execution_count": 62,
      "outputs": [
        {
          "output_type": "stream",
          "name": "stdout",
          "text": [
            "Prime numbers between 600 and 800 written to 'prime_600_800.txt'.\n"
          ]
        }
      ]
    },
    {
      "cell_type": "markdown",
      "source": [
        "Q11. WAP to calculate the time taken by a program.\n"
      ],
      "metadata": {
        "id": "M8JiNzPCyp49"
      }
    },
    {
      "cell_type": "code",
      "source": [
        "import time\n",
        "\n",
        "# Record the start time\n",
        "start_time = time.time()\n",
        "\n",
        "# Code block whose execution time you want to measure\n",
        "total = 0\n",
        "for i in range(1, 1_000_001):\n",
        "    total += i\n",
        "\n",
        "# Record the end time\n",
        "end_time = time.time()\n",
        "\n",
        "# Calculate elapsed time\n",
        "elapsed_time = end_time - start_time\n",
        "\n",
        "print(\"Sum:\", total)\n",
        "print(f\"Time taken by the program: {elapsed_time:.4f} seconds\")"
      ],
      "metadata": {
        "colab": {
          "base_uri": "https://localhost:8080/"
        },
        "id": "n6-pwLxuyvUY",
        "outputId": "205379a0-ad8e-4735-f863-e196f8495932"
      },
      "execution_count": 63,
      "outputs": [
        {
          "output_type": "stream",
          "name": "stdout",
          "text": [
            "Sum: 500000500000\n",
            "Time taken by the program: 0.1190 seconds\n"
          ]
        }
      ]
    },
    {
      "cell_type": "markdown",
      "source": [
        "###**Q12. WAP to sort following number of elements in a list, calculate time taken and plot the graph.**"
      ],
      "metadata": {
        "id": "tz4DAeOQyukO"
      }
    },
    {
      "cell_type": "code",
      "source": [
        "import random\n",
        "import time\n",
        "import matplotlib.pyplot as plt\n",
        "\n",
        "# Sizes of lists to test\n",
        "list_sizes = [1000 * i for i in range(1, 11)]\n",
        "times_taken = []\n",
        "\n",
        "# Test sorting performance\n",
        "for size in list_sizes:\n",
        "    data = [random.randint(1, 10000) for _ in range(size)]\n",
        "    start_time = time.time()\n",
        "    sorted_data = sorted(data)\n",
        "    end_time = time.time()\n",
        "    elapsed = end_time - start_time\n",
        "    times_taken.append(elapsed)\n",
        "    print(f\"Sorted list of size {size} in {elapsed:.6f} seconds\")\n",
        "\n",
        "# Plotting the results\n",
        "plt.plot(list_sizes, times_taken, marker='o', color='blue')\n",
        "plt.title(\"Time Taken to Sort Lists of Varying Sizes\")\n",
        "plt.xlabel(\"List Size\")\n",
        "plt.ylabel(\"Time Taken (seconds)\")\n",
        "plt.grid(True)\n",
        "plt.tight_layout()\n",
        "plt.show()"
      ],
      "metadata": {
        "colab": {
          "base_uri": "https://localhost:8080/",
          "height": 661
        },
        "id": "Z0J37-SQzdSq",
        "outputId": "d1780e83-dcab-49d7-cf53-d394e648d02e"
      },
      "execution_count": 64,
      "outputs": [
        {
          "output_type": "stream",
          "name": "stdout",
          "text": [
            "Sorted list of size 1000 in 0.010099 seconds\n",
            "Sorted list of size 2000 in 0.000384 seconds\n",
            "Sorted list of size 3000 in 0.000629 seconds\n",
            "Sorted list of size 4000 in 0.000936 seconds\n",
            "Sorted list of size 5000 in 0.001185 seconds\n",
            "Sorted list of size 6000 in 0.004666 seconds\n",
            "Sorted list of size 7000 in 0.002688 seconds\n",
            "Sorted list of size 8000 in 0.002001 seconds\n",
            "Sorted list of size 9000 in 0.005618 seconds\n",
            "Sorted list of size 10000 in 0.003998 seconds\n"
          ]
        },
        {
          "output_type": "display_data",
          "data": {
            "text/plain": [
              "<Figure size 640x480 with 1 Axes>"
            ],
            "image/png": "[encoded data removed]"
          },
          "metadata": {}
        }
      ]
    },
    {
      "cell_type": "markdown",
      "source": [
        "###**13. WAP to create a dictionary of student marks in five subjects and you have to find the student**\n",
        "##**having maximum and minimum average marks**"
      ],
      "metadata": {
        "id": "Azgl8UKR01E7"
      }
    },
    {
      "cell_type": "code",
      "source": [
        "# Dictionary with student names as keys and list of marks (5 subjects) as values\n",
        "student_marks = {\n",
        "    \"Alice\":   [85, 78, 92, 88, 76],\n",
        "    \"Bob\":     [65, 70, 72, 68, 74],\n",
        "    \"Charlie\": [90, 85, 88, 91, 95],\n",
        "    \"David\":   [50, 55, 52, 48, 60],\n",
        "    \"Eve\":     [75, 80, 78, 82, 79]\n",
        "}\n",
        "\n",
        "# Dictionary to store average marks\n",
        "avg_marks = {}\n",
        "\n",
        "# Calculate average for each student\n",
        "for student, marks in student_marks.items():\n",
        "    avg = sum(marks) / len(marks)\n",
        "    avg_marks[student] = avg\n",
        "\n",
        "# Find student with max and min average\n",
        "max_student = max(avg_marks, key=avg_marks.get)\n",
        "min_student = min(avg_marks, key=avg_marks.get)\n",
        "\n",
        "print(\"Average Marks of Each Student:\")\n",
        "for student, avg in avg_marks.items():\n",
        "    print(f\"{student}: {avg:.2f}\")\n",
        "\n",
        "print(f\"\\nStudent with Maximum Average: {max_student} ({avg_marks[max_student]:.2f})\")\n",
        "print(f\"Student with Minimum Average: {min_student} ({avg_marks[min_student]:.2f})\")"
      ],
      "metadata": {
        "colab": {
          "base_uri": "https://localhost:8080/"
        },
        "id": "ElyHsi4d1AnE",
        "outputId": "8c6f5388-b567-4ca6-eee3-bb03b92d6f12"
      },
      "execution_count": 65,
      "outputs": [
        {
          "output_type": "stream",
          "name": "stdout",
          "text": [
            "Average Marks of Each Student:\n",
            "Alice: 83.80\n",
            "Bob: 69.80\n",
            "Charlie: 89.80\n",
            "David: 53.00\n",
            "Eve: 78.80\n",
            "\n",
            "Student with Maximum Average: Charlie (89.80)\n",
            "Student with Minimum Average: David (53.00)\n"
          ]
        }
      ]
    }
  ]
}